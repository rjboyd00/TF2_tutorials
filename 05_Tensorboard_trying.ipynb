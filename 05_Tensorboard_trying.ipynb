{
  "nbformat": 4,
  "nbformat_minor": 0,
  "metadata": {
    "kernelspec": {
      "display_name": "Python 3",
      "language": "python",
      "name": "python3"
    },
    "language_info": {
      "codemirror_mode": {
        "name": "ipython",
        "version": 3
      },
      "file_extension": ".py",
      "mimetype": "text/x-python",
      "name": "python",
      "nbconvert_exporter": "python",
      "pygments_lexer": "ipython3",
      "version": "3.7.4"
    },
    "colab": {
      "name": "05-Tensorboard.ipynb",
      "provenance": [],
      "include_colab_link": true
    }
  },
  "cells": [
    {
      "cell_type": "markdown",
      "metadata": {
        "id": "view-in-github",
        "colab_type": "text"
      },
      "source": [
        "<a href=\"https://colab.research.google.com/github/rjboyd00/TF2_tutorials/blob/master/05_Tensorboard_trying.ipynb\" target=\"_parent\"><img src=\"https://colab.research.google.com/assets/colab-badge.svg\" alt=\"Open In Colab\"/></a>"
      ]
    },
    {
      "cell_type": "markdown",
      "metadata": {
        "id": "3FvOKd8oa3vk",
        "colab_type": "text"
      },
      "source": [
        "<a href=\"https://www.pieriandata.com\"><img src=\"../Pierian_Data_Logo.PNG\"></a>\n",
        "<strong><center>Copyright by Pierian Data Inc.</center></strong> \n",
        "<strong><center>Created by Jose Marcial Portilla.</center></strong>"
      ]
    },
    {
      "cell_type": "markdown",
      "metadata": {
        "id": "LNaTw18ua3vu",
        "colab_type": "text"
      },
      "source": [
        "# Tensorboard\n",
        "\n",
        "---\n",
        "---\n",
        "\n",
        "**NOTE: You must watch the corresponding video to understand this lecture. This notebook can't serve as a full guide. Please watch the video BEFORE posting questions to the QA forum.**\n",
        "\n",
        "---\n",
        "---\n",
        "\n",
        "Let's explore the built in data visualization capabilities that come with Tensorboard.\n",
        "\n",
        "Full official tutorial available here: https://www.tensorflow.org/tensorboard/get_started\n",
        "\n",
        "## Data"
      ]
    },
    {
      "cell_type": "code",
      "metadata": {
        "id": "3kUhrHyXa3v6",
        "colab_type": "code",
        "colab": {}
      },
      "source": [
        "import pandas as pd\n",
        "import numpy as np"
      ],
      "execution_count": 0,
      "outputs": []
    },
    {
      "cell_type": "code",
      "metadata": {
        "id": "x8RgDGnea3wV",
        "colab_type": "code",
        "colab": {}
      },
      "source": [
        "df = pd.read_csv('cancer_classification.csv')"
      ],
      "execution_count": 0,
      "outputs": []
    },
    {
      "cell_type": "markdown",
      "metadata": {
        "id": "kARaWTyka3wv",
        "colab_type": "text"
      },
      "source": [
        "### Train Test Split"
      ]
    },
    {
      "cell_type": "code",
      "metadata": {
        "id": "zfngSRP6a3wy",
        "colab_type": "code",
        "colab": {}
      },
      "source": [
        "X = df.drop('benign_0__mal_1',axis=1).values\n",
        "y = df['benign_0__mal_1'].values"
      ],
      "execution_count": 0,
      "outputs": []
    },
    {
      "cell_type": "code",
      "metadata": {
        "id": "Y_Kn9PL_a3w9",
        "colab_type": "code",
        "colab": {}
      },
      "source": [
        "from sklearn.model_selection import train_test_split"
      ],
      "execution_count": 0,
      "outputs": []
    },
    {
      "cell_type": "code",
      "metadata": {
        "id": "xfD8OBi9a3xI",
        "colab_type": "code",
        "colab": {}
      },
      "source": [
        "X_train, X_test, y_train, y_test = train_test_split(X,y,test_size=0.25,random_state=101)"
      ],
      "execution_count": 0,
      "outputs": []
    },
    {
      "cell_type": "markdown",
      "metadata": {
        "id": "ViFvRnx2a3xR",
        "colab_type": "text"
      },
      "source": [
        "\n",
        "### Scaling Data"
      ]
    },
    {
      "cell_type": "code",
      "metadata": {
        "id": "KoQ43f5Ta3xU",
        "colab_type": "code",
        "colab": {}
      },
      "source": [
        "from sklearn.preprocessing import MinMaxScaler"
      ],
      "execution_count": 0,
      "outputs": []
    },
    {
      "cell_type": "code",
      "metadata": {
        "id": "RjrFs1lGa3xe",
        "colab_type": "code",
        "colab": {}
      },
      "source": [
        "scaler = MinMaxScaler()"
      ],
      "execution_count": 0,
      "outputs": []
    },
    {
      "cell_type": "code",
      "metadata": {
        "id": "ZXb7gzCka3xk",
        "colab_type": "code",
        "colab": {
          "base_uri": "https://localhost:8080/",
          "height": 34
        },
        "outputId": "0faa8096-ec87-405f-f49e-611fedc17f02"
      },
      "source": [
        "scaler.fit(X_train)"
      ],
      "execution_count": 77,
      "outputs": [
        {
          "output_type": "execute_result",
          "data": {
            "text/plain": [
              "MinMaxScaler(copy=True, feature_range=(0, 1))"
            ]
          },
          "metadata": {
            "tags": []
          },
          "execution_count": 77
        }
      ]
    },
    {
      "cell_type": "code",
      "metadata": {
        "id": "x5FK4p9qa3xu",
        "colab_type": "code",
        "colab": {}
      },
      "source": [
        "X_train = scaler.transform(X_train)\n",
        "X_test = scaler.transform(X_test)"
      ],
      "execution_count": 0,
      "outputs": []
    },
    {
      "cell_type": "markdown",
      "metadata": {
        "id": "RGUNHDsJa3xz",
        "colab_type": "text"
      },
      "source": [
        "## Creating the Model"
      ]
    },
    {
      "cell_type": "code",
      "metadata": {
        "id": "0cp_s1Eca3x1",
        "colab_type": "code",
        "colab": {}
      },
      "source": [
        "import tensorflow as tf\n",
        "from tensorflow.keras.models import Sequential\n",
        "from tensorflow.keras.layers import Dense, Activation,Dropout"
      ],
      "execution_count": 0,
      "outputs": []
    },
    {
      "cell_type": "code",
      "metadata": {
        "id": "Gv1E7I8ya3x5",
        "colab_type": "code",
        "colab": {}
      },
      "source": [
        "from tensorflow.keras.callbacks import EarlyStopping,TensorBoard"
      ],
      "execution_count": 0,
      "outputs": []
    },
    {
      "cell_type": "code",
      "metadata": {
        "id": "HOMiw8waa3yA",
        "colab_type": "code",
        "colab": {}
      },
      "source": [
        "early_stop = EarlyStopping(monitor='val_loss', mode='min', verbose=1, patience=25)"
      ],
      "execution_count": 0,
      "outputs": []
    },
    {
      "cell_type": "code",
      "metadata": {
        "id": "xzmZqeKfa3yG",
        "colab_type": "code",
        "colab": {
          "base_uri": "https://localhost:8080/",
          "height": 34
        },
        "outputId": "b50a091b-7915-41a2-cfe2-004489c0ea1f"
      },
      "source": [
        "pwd"
      ],
      "execution_count": 82,
      "outputs": [
        {
          "output_type": "execute_result",
          "data": {
            "text/plain": [
              "'/content'"
            ]
          },
          "metadata": {
            "tags": []
          },
          "execution_count": 82
        }
      ]
    },
    {
      "cell_type": "markdown",
      "metadata": {
        "id": "oNONgkXMa3yP",
        "colab_type": "text"
      },
      "source": [
        "## Creating the Tensorboard Callback\n",
        "\n",
        "TensorBoard is a visualization tool provided with TensorFlow.\n",
        "\n",
        "This callback logs events for TensorBoard, including:\n",
        "* Metrics summary plots\n",
        "* Training graph visualization\n",
        "* Activation histograms\n",
        "* Sampled profiling\n",
        "\n",
        "If you have installed TensorFlow with pip, you should be able\n",
        "to launch TensorBoard from the command line:\n",
        "\n",
        "```sh\n",
        "tensorboard --logdir=path_to_your_logs\n",
        "```\n",
        "\n",
        "You can find more information about TensorBoard\n",
        "[here](https://www.tensorflow.org/tensorboard/).\n",
        "\n",
        "    Arguments:\n",
        "        log_dir: the path of the directory where to save the log files to be\n",
        "          parsed by TensorBoard.\n",
        "        histogram_freq: frequency (in epochs) at which to compute activation and\n",
        "          weight histograms for the layers of the model. If set to 0, histograms\n",
        "          won't be computed. Validation data (or split) must be specified for\n",
        "          histogram visualizations.\n",
        "        write_graph: whether to visualize the graph in TensorBoard. The log file\n",
        "          can become quite large when write_graph is set to True.\n",
        "        write_images: whether to write model weights to visualize as image in\n",
        "          TensorBoard.\n",
        "        update_freq: `'batch'` or `'epoch'` or integer. When using `'batch'`,\n",
        "          writes the losses and metrics to TensorBoard after each batch. The same\n",
        "          applies for `'epoch'`. If using an integer, let's say `1000`, the\n",
        "          callback will write the metrics and losses to TensorBoard every 1000\n",
        "          samples. Note that writing too frequently to TensorBoard can slow down\n",
        "          your training.\n",
        "        profile_batch: Profile the batch to sample compute characteristics. By\n",
        "          default, it will profile the second batch. Set profile_batch=0 to\n",
        "          disable profiling. Must run in TensorFlow eager mode.\n",
        "        embeddings_freq: frequency (in epochs) at which embedding layers will\n",
        "          be visualized. If set to 0, embeddings won't be visualized.\n",
        "       "
      ]
    },
    {
      "cell_type": "code",
      "metadata": {
        "id": "fvM0QxVDa3yS",
        "colab_type": "code",
        "colab": {}
      },
      "source": [
        "from datetime import datetime"
      ],
      "execution_count": 0,
      "outputs": []
    },
    {
      "cell_type": "code",
      "metadata": {
        "id": "bZ6AJWHKa3yX",
        "colab_type": "code",
        "colab": {
          "base_uri": "https://localhost:8080/",
          "height": 34
        },
        "outputId": "25f76393-7f4c-4588-eefc-d304b79d7f56"
      },
      "source": [
        "datetime.now().strftime(\"%Y-%m-%d--%H%M\")"
      ],
      "execution_count": 84,
      "outputs": [
        {
          "output_type": "execute_result",
          "data": {
            "text/plain": [
              "'2020-03-26--0654'"
            ]
          },
          "metadata": {
            "tags": []
          },
          "execution_count": 84
        }
      ]
    },
    {
      "cell_type": "code",
      "metadata": {
        "id": "sRzjjUoWa3yg",
        "colab_type": "code",
        "colab": {}
      },
      "source": [
        "# WINDOWS: Use \"logs\\\\fit\"\n",
        "# MACOS/LINUX: Use \"logs\\fit\"\n",
        "\n",
        "log_directory = '/content/logs/'\n",
        "\n",
        "# OPTIONAL: ADD A TIMESTAMP FOR UNIQUE FOLDER\n",
        "# timestamp = datetime.now().strftime(\"%Y-%m-%d--%H%M\")\n",
        "# log_directory = log_directory + '\\\\' + timestamp\n",
        "\n",
        "\n",
        "board = TensorBoard(log_dir=log_directory,histogram_freq=1,\n",
        "    write_graph=True,\n",
        "    write_images=True,\n",
        "    update_freq='epoch')"
      ],
      "execution_count": 0,
      "outputs": []
    },
    {
      "cell_type": "markdown",
      "metadata": {
        "id": "4BCi0dZJa3ym",
        "colab_type": "text"
      },
      "source": [
        "Now create the model layers:"
      ]
    },
    {
      "cell_type": "code",
      "metadata": {
        "id": "GMsp5N1Ea3yn",
        "colab_type": "code",
        "colab": {}
      },
      "source": [
        "model = Sequential()\n",
        "model.add(Dense(units=30,activation='relu'))\n",
        "model.add(Dropout(0.5))\n",
        "model.add(Dense(units=15,activation='relu'))\n",
        "model.add(Dropout(0.5))\n",
        "model.add(Dense(units=1,activation='sigmoid'))\n",
        "model.compile(loss='binary_crossentropy', optimizer='adam')"
      ],
      "execution_count": 0,
      "outputs": []
    },
    {
      "cell_type": "markdown",
      "metadata": {
        "id": "B81cgsM7a3yt",
        "colab_type": "text"
      },
      "source": [
        "## Train the Model"
      ]
    },
    {
      "cell_type": "code",
      "metadata": {
        "id": "eOGG92cMa3yu",
        "colab_type": "code",
        "colab": {
          "base_uri": "https://localhost:8080/",
          "height": 1000
        },
        "outputId": "be3b2ea4-a98b-4187-9ce9-80ad1f9c3818"
      },
      "source": [
        "model.fit(x=X_train, \n",
        "          y=y_train, \n",
        "          epochs=600,\n",
        "          validation_data=(X_test, y_test), verbose=1,\n",
        "          callbacks=[early_stop,board]\n",
        "          )"
      ],
      "execution_count": 87,
      "outputs": [
        {
          "output_type": "stream",
          "text": [
            "Train on 426 samples, validate on 143 samples\n",
            "Epoch 1/600\n",
            "426/426 [==============================] - 0s 1ms/sample - loss: 0.6980 - val_loss: 0.6675\n",
            "Epoch 2/600\n",
            "426/426 [==============================] - 0s 114us/sample - loss: 0.6764 - val_loss: 0.6388\n",
            "Epoch 3/600\n",
            "426/426 [==============================] - 0s 96us/sample - loss: 0.6477 - val_loss: 0.6115\n",
            "Epoch 4/600\n",
            "426/426 [==============================] - 0s 96us/sample - loss: 0.6245 - val_loss: 0.5824\n",
            "Epoch 5/600\n",
            "426/426 [==============================] - 0s 98us/sample - loss: 0.5919 - val_loss: 0.5528\n",
            "Epoch 6/600\n",
            "426/426 [==============================] - 0s 99us/sample - loss: 0.5640 - val_loss: 0.5163\n",
            "Epoch 7/600\n",
            "426/426 [==============================] - 0s 105us/sample - loss: 0.5487 - val_loss: 0.4784\n",
            "Epoch 8/600\n",
            "426/426 [==============================] - 0s 93us/sample - loss: 0.5332 - val_loss: 0.4505\n",
            "Epoch 9/600\n",
            "426/426 [==============================] - 0s 94us/sample - loss: 0.5002 - val_loss: 0.4222\n",
            "Epoch 10/600\n",
            "426/426 [==============================] - 0s 101us/sample - loss: 0.4666 - val_loss: 0.3912\n",
            "Epoch 11/600\n",
            "426/426 [==============================] - 0s 105us/sample - loss: 0.4758 - val_loss: 0.3654\n",
            "Epoch 12/600\n",
            "426/426 [==============================] - 0s 102us/sample - loss: 0.4462 - val_loss: 0.3520\n",
            "Epoch 13/600\n",
            "426/426 [==============================] - 0s 96us/sample - loss: 0.4200 - val_loss: 0.3299\n",
            "Epoch 14/600\n",
            "426/426 [==============================] - 0s 98us/sample - loss: 0.4075 - val_loss: 0.3069\n",
            "Epoch 15/600\n",
            "426/426 [==============================] - 0s 96us/sample - loss: 0.3855 - val_loss: 0.2928\n",
            "Epoch 16/600\n",
            "426/426 [==============================] - 0s 100us/sample - loss: 0.3702 - val_loss: 0.2722\n",
            "Epoch 17/600\n",
            "426/426 [==============================] - 0s 104us/sample - loss: 0.3732 - val_loss: 0.2593\n",
            "Epoch 18/600\n",
            "426/426 [==============================] - 0s 93us/sample - loss: 0.3603 - val_loss: 0.2533\n",
            "Epoch 19/600\n",
            "426/426 [==============================] - 0s 106us/sample - loss: 0.3551 - val_loss: 0.2454\n",
            "Epoch 20/600\n",
            "426/426 [==============================] - 0s 104us/sample - loss: 0.3086 - val_loss: 0.2334\n",
            "Epoch 21/600\n",
            "426/426 [==============================] - 0s 91us/sample - loss: 0.3039 - val_loss: 0.2172\n",
            "Epoch 22/600\n",
            "426/426 [==============================] - 0s 95us/sample - loss: 0.3040 - val_loss: 0.2052\n",
            "Epoch 23/600\n",
            "426/426 [==============================] - 0s 98us/sample - loss: 0.2941 - val_loss: 0.1999\n",
            "Epoch 24/600\n",
            "426/426 [==============================] - 0s 101us/sample - loss: 0.2855 - val_loss: 0.1868\n",
            "Epoch 25/600\n",
            "426/426 [==============================] - 0s 100us/sample - loss: 0.2742 - val_loss: 0.1797\n",
            "Epoch 26/600\n",
            "426/426 [==============================] - 0s 91us/sample - loss: 0.2765 - val_loss: 0.1790\n",
            "Epoch 27/600\n",
            "426/426 [==============================] - 0s 104us/sample - loss: 0.2737 - val_loss: 0.1706\n",
            "Epoch 28/600\n",
            "426/426 [==============================] - 0s 99us/sample - loss: 0.2631 - val_loss: 0.1728\n",
            "Epoch 29/600\n",
            "426/426 [==============================] - 0s 99us/sample - loss: 0.2665 - val_loss: 0.1611\n",
            "Epoch 30/600\n",
            "426/426 [==============================] - 0s 98us/sample - loss: 0.2615 - val_loss: 0.1597\n",
            "Epoch 31/600\n",
            "426/426 [==============================] - 0s 98us/sample - loss: 0.2364 - val_loss: 0.1528\n",
            "Epoch 32/600\n",
            "426/426 [==============================] - 0s 105us/sample - loss: 0.2433 - val_loss: 0.1536\n",
            "Epoch 33/600\n",
            "426/426 [==============================] - 0s 100us/sample - loss: 0.2112 - val_loss: 0.1479\n",
            "Epoch 34/600\n",
            "426/426 [==============================] - 0s 103us/sample - loss: 0.1972 - val_loss: 0.1483\n",
            "Epoch 35/600\n",
            "426/426 [==============================] - 0s 100us/sample - loss: 0.2321 - val_loss: 0.1379\n",
            "Epoch 36/600\n",
            "426/426 [==============================] - 0s 98us/sample - loss: 0.2142 - val_loss: 0.1341\n",
            "Epoch 37/600\n",
            "426/426 [==============================] - 0s 100us/sample - loss: 0.1939 - val_loss: 0.1355\n",
            "Epoch 38/600\n",
            "426/426 [==============================] - 0s 100us/sample - loss: 0.1923 - val_loss: 0.1323\n",
            "Epoch 39/600\n",
            "426/426 [==============================] - 0s 102us/sample - loss: 0.2025 - val_loss: 0.1254\n",
            "Epoch 40/600\n",
            "426/426 [==============================] - 0s 96us/sample - loss: 0.1812 - val_loss: 0.1309\n",
            "Epoch 41/600\n",
            "426/426 [==============================] - 0s 104us/sample - loss: 0.1781 - val_loss: 0.1219\n",
            "Epoch 42/600\n",
            "426/426 [==============================] - 0s 97us/sample - loss: 0.1933 - val_loss: 0.1161\n",
            "Epoch 43/600\n",
            "426/426 [==============================] - 0s 88us/sample - loss: 0.1811 - val_loss: 0.1210\n",
            "Epoch 44/600\n",
            "426/426 [==============================] - 0s 91us/sample - loss: 0.1659 - val_loss: 0.1252\n",
            "Epoch 45/600\n",
            "426/426 [==============================] - 0s 95us/sample - loss: 0.1797 - val_loss: 0.1120\n",
            "Epoch 46/600\n",
            "426/426 [==============================] - 0s 96us/sample - loss: 0.1895 - val_loss: 0.1114\n",
            "Epoch 47/600\n",
            "426/426 [==============================] - 0s 99us/sample - loss: 0.1781 - val_loss: 0.1256\n",
            "Epoch 48/600\n",
            "426/426 [==============================] - 0s 99us/sample - loss: 0.1933 - val_loss: 0.1238\n",
            "Epoch 49/600\n",
            "426/426 [==============================] - 0s 91us/sample - loss: 0.1660 - val_loss: 0.1109\n",
            "Epoch 50/600\n",
            "426/426 [==============================] - 0s 111us/sample - loss: 0.1381 - val_loss: 0.1078\n",
            "Epoch 51/600\n",
            "426/426 [==============================] - 0s 90us/sample - loss: 0.1524 - val_loss: 0.1145\n",
            "Epoch 52/600\n",
            "426/426 [==============================] - 0s 100us/sample - loss: 0.1851 - val_loss: 0.1088\n",
            "Epoch 53/600\n",
            "426/426 [==============================] - 0s 101us/sample - loss: 0.1639 - val_loss: 0.1089\n",
            "Epoch 54/600\n",
            "426/426 [==============================] - 0s 94us/sample - loss: 0.1382 - val_loss: 0.1051\n",
            "Epoch 55/600\n",
            "426/426 [==============================] - 0s 93us/sample - loss: 0.1503 - val_loss: 0.1023\n",
            "Epoch 56/600\n",
            "426/426 [==============================] - 0s 89us/sample - loss: 0.1346 - val_loss: 0.1104\n",
            "Epoch 57/600\n",
            "426/426 [==============================] - 0s 98us/sample - loss: 0.1407 - val_loss: 0.1000\n",
            "Epoch 58/600\n",
            "426/426 [==============================] - 0s 95us/sample - loss: 0.1281 - val_loss: 0.1027\n",
            "Epoch 59/600\n",
            "426/426 [==============================] - 0s 97us/sample - loss: 0.1522 - val_loss: 0.1167\n",
            "Epoch 60/600\n",
            "426/426 [==============================] - 0s 97us/sample - loss: 0.1425 - val_loss: 0.0983\n",
            "Epoch 61/600\n",
            "426/426 [==============================] - 0s 96us/sample - loss: 0.1312 - val_loss: 0.0962\n",
            "Epoch 62/600\n",
            "426/426 [==============================] - 0s 98us/sample - loss: 0.1563 - val_loss: 0.1052\n",
            "Epoch 63/600\n",
            "426/426 [==============================] - 0s 96us/sample - loss: 0.1333 - val_loss: 0.1072\n",
            "Epoch 64/600\n",
            "426/426 [==============================] - 0s 101us/sample - loss: 0.1232 - val_loss: 0.0962\n",
            "Epoch 65/600\n",
            "426/426 [==============================] - 0s 96us/sample - loss: 0.1383 - val_loss: 0.1030\n",
            "Epoch 66/600\n",
            "426/426 [==============================] - 0s 92us/sample - loss: 0.1234 - val_loss: 0.0962\n",
            "Epoch 67/600\n",
            "426/426 [==============================] - 0s 94us/sample - loss: 0.1365 - val_loss: 0.0944\n",
            "Epoch 68/600\n",
            "426/426 [==============================] - 0s 108us/sample - loss: 0.1353 - val_loss: 0.1036\n",
            "Epoch 69/600\n",
            "426/426 [==============================] - 0s 101us/sample - loss: 0.1367 - val_loss: 0.0994\n",
            "Epoch 70/600\n",
            "426/426 [==============================] - 0s 98us/sample - loss: 0.1398 - val_loss: 0.1006\n",
            "Epoch 71/600\n",
            "426/426 [==============================] - 0s 98us/sample - loss: 0.1280 - val_loss: 0.0940\n",
            "Epoch 72/600\n",
            "426/426 [==============================] - 0s 97us/sample - loss: 0.1376 - val_loss: 0.0917\n",
            "Epoch 73/600\n",
            "426/426 [==============================] - 0s 105us/sample - loss: 0.1315 - val_loss: 0.1009\n",
            "Epoch 74/600\n",
            "426/426 [==============================] - 0s 123us/sample - loss: 0.1108 - val_loss: 0.1041\n",
            "Epoch 75/600\n",
            "426/426 [==============================] - 0s 109us/sample - loss: 0.1349 - val_loss: 0.0929\n",
            "Epoch 76/600\n",
            "426/426 [==============================] - 0s 99us/sample - loss: 0.1232 - val_loss: 0.0918\n",
            "Epoch 77/600\n",
            "426/426 [==============================] - 0s 102us/sample - loss: 0.1116 - val_loss: 0.0959\n",
            "Epoch 78/600\n",
            "426/426 [==============================] - 0s 94us/sample - loss: 0.1202 - val_loss: 0.0895\n",
            "Epoch 79/600\n",
            "426/426 [==============================] - 0s 99us/sample - loss: 0.1214 - val_loss: 0.0967\n",
            "Epoch 80/600\n",
            "426/426 [==============================] - 0s 92us/sample - loss: 0.1058 - val_loss: 0.0918\n",
            "Epoch 81/600\n",
            "426/426 [==============================] - 0s 100us/sample - loss: 0.1291 - val_loss: 0.0933\n",
            "Epoch 82/600\n",
            "426/426 [==============================] - 0s 93us/sample - loss: 0.1167 - val_loss: 0.0890\n",
            "Epoch 83/600\n",
            "426/426 [==============================] - 0s 93us/sample - loss: 0.1279 - val_loss: 0.0895\n",
            "Epoch 84/600\n",
            "426/426 [==============================] - 0s 95us/sample - loss: 0.1117 - val_loss: 0.1000\n",
            "Epoch 85/600\n",
            "426/426 [==============================] - 0s 93us/sample - loss: 0.1042 - val_loss: 0.0904\n",
            "Epoch 86/600\n",
            "426/426 [==============================] - 0s 91us/sample - loss: 0.0972 - val_loss: 0.0897\n",
            "Epoch 87/600\n",
            "426/426 [==============================] - 0s 105us/sample - loss: 0.1237 - val_loss: 0.0942\n",
            "Epoch 88/600\n",
            "426/426 [==============================] - 0s 92us/sample - loss: 0.0967 - val_loss: 0.0898\n",
            "Epoch 89/600\n",
            "426/426 [==============================] - 0s 93us/sample - loss: 0.1148 - val_loss: 0.0900\n",
            "Epoch 90/600\n",
            "426/426 [==============================] - 0s 99us/sample - loss: 0.1121 - val_loss: 0.0894\n",
            "Epoch 91/600\n",
            "426/426 [==============================] - 0s 96us/sample - loss: 0.1047 - val_loss: 0.0879\n",
            "Epoch 92/600\n",
            "426/426 [==============================] - 0s 105us/sample - loss: 0.0956 - val_loss: 0.0875\n",
            "Epoch 93/600\n",
            "426/426 [==============================] - 0s 93us/sample - loss: 0.1017 - val_loss: 0.0861\n",
            "Epoch 94/600\n",
            "426/426 [==============================] - 0s 99us/sample - loss: 0.1230 - val_loss: 0.0930\n",
            "Epoch 95/600\n",
            "426/426 [==============================] - 0s 95us/sample - loss: 0.1056 - val_loss: 0.0920\n",
            "Epoch 96/600\n",
            "426/426 [==============================] - 0s 88us/sample - loss: 0.1002 - val_loss: 0.0998\n",
            "Epoch 97/600\n",
            "426/426 [==============================] - 0s 102us/sample - loss: 0.1273 - val_loss: 0.1241\n",
            "Epoch 98/600\n",
            "426/426 [==============================] - 0s 91us/sample - loss: 0.1058 - val_loss: 0.0877\n",
            "Epoch 99/600\n",
            "426/426 [==============================] - 0s 98us/sample - loss: 0.0916 - val_loss: 0.0866\n",
            "Epoch 100/600\n",
            "426/426 [==============================] - 0s 91us/sample - loss: 0.0976 - val_loss: 0.0901\n",
            "Epoch 101/600\n",
            "426/426 [==============================] - 0s 99us/sample - loss: 0.1009 - val_loss: 0.0872\n",
            "Epoch 102/600\n",
            "426/426 [==============================] - 0s 94us/sample - loss: 0.1033 - val_loss: 0.0851\n",
            "Epoch 103/600\n",
            "426/426 [==============================] - 0s 95us/sample - loss: 0.1059 - val_loss: 0.0868\n",
            "Epoch 104/600\n",
            "426/426 [==============================] - 0s 92us/sample - loss: 0.1033 - val_loss: 0.0874\n",
            "Epoch 105/600\n",
            "426/426 [==============================] - 0s 92us/sample - loss: 0.0980 - val_loss: 0.0874\n",
            "Epoch 106/600\n",
            "426/426 [==============================] - 0s 93us/sample - loss: 0.1034 - val_loss: 0.1088\n",
            "Epoch 107/600\n",
            "426/426 [==============================] - 0s 94us/sample - loss: 0.0923 - val_loss: 0.0936\n",
            "Epoch 108/600\n",
            "426/426 [==============================] - 0s 101us/sample - loss: 0.1278 - val_loss: 0.0893\n",
            "Epoch 109/600\n",
            "426/426 [==============================] - 0s 94us/sample - loss: 0.0947 - val_loss: 0.0854\n",
            "Epoch 110/600\n",
            "426/426 [==============================] - 0s 91us/sample - loss: 0.1143 - val_loss: 0.0855\n",
            "Epoch 111/600\n",
            "426/426 [==============================] - 0s 93us/sample - loss: 0.1096 - val_loss: 0.0870\n",
            "Epoch 112/600\n",
            "426/426 [==============================] - 0s 91us/sample - loss: 0.0995 - val_loss: 0.0881\n",
            "Epoch 113/600\n",
            "426/426 [==============================] - 0s 98us/sample - loss: 0.1137 - val_loss: 0.0909\n",
            "Epoch 114/600\n",
            "426/426 [==============================] - 0s 99us/sample - loss: 0.1049 - val_loss: 0.0888\n",
            "Epoch 115/600\n",
            "426/426 [==============================] - 0s 111us/sample - loss: 0.0844 - val_loss: 0.0882\n",
            "Epoch 116/600\n",
            "426/426 [==============================] - 0s 92us/sample - loss: 0.0726 - val_loss: 0.0907\n",
            "Epoch 117/600\n",
            "426/426 [==============================] - 0s 91us/sample - loss: 0.0768 - val_loss: 0.0920\n",
            "Epoch 118/600\n",
            "426/426 [==============================] - 0s 94us/sample - loss: 0.0957 - val_loss: 0.0815\n",
            "Epoch 119/600\n",
            "426/426 [==============================] - 0s 93us/sample - loss: 0.0892 - val_loss: 0.0844\n",
            "Epoch 120/600\n",
            "426/426 [==============================] - 0s 93us/sample - loss: 0.0984 - val_loss: 0.0822\n",
            "Epoch 121/600\n",
            "426/426 [==============================] - 0s 97us/sample - loss: 0.0802 - val_loss: 0.0911\n",
            "Epoch 122/600\n",
            "426/426 [==============================] - 0s 97us/sample - loss: 0.1110 - val_loss: 0.1102\n",
            "Epoch 123/600\n",
            "426/426 [==============================] - 0s 98us/sample - loss: 0.0927 - val_loss: 0.1037\n",
            "Epoch 124/600\n",
            "426/426 [==============================] - 0s 101us/sample - loss: 0.0842 - val_loss: 0.0830\n",
            "Epoch 125/600\n",
            "426/426 [==============================] - 0s 107us/sample - loss: 0.1047 - val_loss: 0.0825\n",
            "Epoch 126/600\n",
            "426/426 [==============================] - 0s 104us/sample - loss: 0.0802 - val_loss: 0.0891\n",
            "Epoch 127/600\n",
            "426/426 [==============================] - 0s 93us/sample - loss: 0.0784 - val_loss: 0.0907\n",
            "Epoch 128/600\n",
            "426/426 [==============================] - 0s 91us/sample - loss: 0.0819 - val_loss: 0.1025\n",
            "Epoch 129/600\n",
            "426/426 [==============================] - 0s 94us/sample - loss: 0.0858 - val_loss: 0.0846\n",
            "Epoch 130/600\n",
            "426/426 [==============================] - 0s 92us/sample - loss: 0.0808 - val_loss: 0.0875\n",
            "Epoch 131/600\n",
            "426/426 [==============================] - 0s 98us/sample - loss: 0.0958 - val_loss: 0.0818\n",
            "Epoch 132/600\n",
            "426/426 [==============================] - 0s 93us/sample - loss: 0.0786 - val_loss: 0.0805\n",
            "Epoch 133/600\n",
            "426/426 [==============================] - 0s 93us/sample - loss: 0.0837 - val_loss: 0.0878\n",
            "Epoch 134/600\n",
            "426/426 [==============================] - 0s 91us/sample - loss: 0.0858 - val_loss: 0.0910\n",
            "Epoch 135/600\n",
            "426/426 [==============================] - 0s 92us/sample - loss: 0.0798 - val_loss: 0.0835\n",
            "Epoch 136/600\n",
            "426/426 [==============================] - 0s 90us/sample - loss: 0.0924 - val_loss: 0.0860\n",
            "Epoch 137/600\n",
            "426/426 [==============================] - 0s 104us/sample - loss: 0.1048 - val_loss: 0.0856\n",
            "Epoch 138/600\n",
            "426/426 [==============================] - 0s 99us/sample - loss: 0.0779 - val_loss: 0.0824\n",
            "Epoch 139/600\n",
            "426/426 [==============================] - 0s 99us/sample - loss: 0.0736 - val_loss: 0.1038\n",
            "Epoch 140/600\n",
            "426/426 [==============================] - 0s 95us/sample - loss: 0.0750 - val_loss: 0.0865\n",
            "Epoch 141/600\n",
            "426/426 [==============================] - 0s 93us/sample - loss: 0.0876 - val_loss: 0.0872\n",
            "Epoch 142/600\n",
            "426/426 [==============================] - 0s 93us/sample - loss: 0.0814 - val_loss: 0.0832\n",
            "Epoch 143/600\n",
            "426/426 [==============================] - 0s 104us/sample - loss: 0.0921 - val_loss: 0.0944\n",
            "Epoch 144/600\n",
            "426/426 [==============================] - 0s 96us/sample - loss: 0.0962 - val_loss: 0.0803\n",
            "Epoch 145/600\n",
            "426/426 [==============================] - 0s 93us/sample - loss: 0.0669 - val_loss: 0.0882\n",
            "Epoch 146/600\n",
            "426/426 [==============================] - 0s 93us/sample - loss: 0.0920 - val_loss: 0.0884\n",
            "Epoch 147/600\n",
            "426/426 [==============================] - 0s 90us/sample - loss: 0.0875 - val_loss: 0.0842\n",
            "Epoch 148/600\n",
            "426/426 [==============================] - 0s 93us/sample - loss: 0.0997 - val_loss: 0.0895\n",
            "Epoch 149/600\n",
            "426/426 [==============================] - 0s 94us/sample - loss: 0.0769 - val_loss: 0.0954\n",
            "Epoch 150/600\n",
            "426/426 [==============================] - 0s 88us/sample - loss: 0.1039 - val_loss: 0.0888\n",
            "Epoch 151/600\n",
            "426/426 [==============================] - 0s 103us/sample - loss: 0.0905 - val_loss: 0.0945\n",
            "Epoch 152/600\n",
            "426/426 [==============================] - 0s 94us/sample - loss: 0.0725 - val_loss: 0.0847\n",
            "Epoch 153/600\n",
            "426/426 [==============================] - 0s 98us/sample - loss: 0.0749 - val_loss: 0.0908\n",
            "Epoch 154/600\n",
            "426/426 [==============================] - 0s 91us/sample - loss: 0.0912 - val_loss: 0.0806\n",
            "Epoch 155/600\n",
            "426/426 [==============================] - 0s 94us/sample - loss: 0.0689 - val_loss: 0.0856\n",
            "Epoch 156/600\n",
            "426/426 [==============================] - 0s 93us/sample - loss: 0.0788 - val_loss: 0.0849\n",
            "Epoch 157/600\n",
            "426/426 [==============================] - 0s 95us/sample - loss: 0.1037 - val_loss: 0.1053\n",
            "Epoch 158/600\n",
            "426/426 [==============================] - 0s 104us/sample - loss: 0.0891 - val_loss: 0.0977\n",
            "Epoch 159/600\n",
            "426/426 [==============================] - 0s 96us/sample - loss: 0.0782 - val_loss: 0.0829\n",
            "Epoch 160/600\n",
            "426/426 [==============================] - 0s 128us/sample - loss: 0.0841 - val_loss: 0.0898\n",
            "Epoch 161/600\n",
            "426/426 [==============================] - 0s 106us/sample - loss: 0.0746 - val_loss: 0.0843\n",
            "Epoch 162/600\n",
            "426/426 [==============================] - 0s 91us/sample - loss: 0.0830 - val_loss: 0.0866\n",
            "Epoch 163/600\n",
            "426/426 [==============================] - 0s 91us/sample - loss: 0.0637 - val_loss: 0.0822\n",
            "Epoch 164/600\n",
            "426/426 [==============================] - 0s 96us/sample - loss: 0.0612 - val_loss: 0.0980\n",
            "Epoch 165/600\n",
            "426/426 [==============================] - 0s 99us/sample - loss: 0.0815 - val_loss: 0.0799\n",
            "Epoch 166/600\n",
            "426/426 [==============================] - 0s 89us/sample - loss: 0.0776 - val_loss: 0.0815\n",
            "Epoch 167/600\n",
            "426/426 [==============================] - 0s 88us/sample - loss: 0.0735 - val_loss: 0.0940\n",
            "Epoch 168/600\n",
            "426/426 [==============================] - 0s 97us/sample - loss: 0.0938 - val_loss: 0.0889\n",
            "Epoch 169/600\n",
            "426/426 [==============================] - 0s 90us/sample - loss: 0.0699 - val_loss: 0.0929\n",
            "Epoch 170/600\n",
            "426/426 [==============================] - 0s 102us/sample - loss: 0.0764 - val_loss: 0.0935\n",
            "Epoch 171/600\n",
            "426/426 [==============================] - 0s 97us/sample - loss: 0.0718 - val_loss: 0.0966\n",
            "Epoch 172/600\n",
            "426/426 [==============================] - 0s 112us/sample - loss: 0.0796 - val_loss: 0.0972\n",
            "Epoch 173/600\n",
            "426/426 [==============================] - 0s 101us/sample - loss: 0.0909 - val_loss: 0.0823\n",
            "Epoch 174/600\n",
            "426/426 [==============================] - 0s 97us/sample - loss: 0.0799 - val_loss: 0.0973\n",
            "Epoch 175/600\n",
            "426/426 [==============================] - 0s 97us/sample - loss: 0.0540 - val_loss: 0.0815\n",
            "Epoch 176/600\n",
            "426/426 [==============================] - 0s 97us/sample - loss: 0.0774 - val_loss: 0.0804\n",
            "Epoch 177/600\n",
            "426/426 [==============================] - 0s 94us/sample - loss: 0.0680 - val_loss: 0.0813\n",
            "Epoch 178/600\n",
            "426/426 [==============================] - 0s 102us/sample - loss: 0.0821 - val_loss: 0.0886\n",
            "Epoch 179/600\n",
            "426/426 [==============================] - 0s 116us/sample - loss: 0.0667 - val_loss: 0.1023\n",
            "Epoch 180/600\n",
            "426/426 [==============================] - 0s 92us/sample - loss: 0.0722 - val_loss: 0.0826\n",
            "Epoch 181/600\n",
            "426/426 [==============================] - 0s 94us/sample - loss: 0.0708 - val_loss: 0.0816\n",
            "Epoch 182/600\n",
            "426/426 [==============================] - 0s 99us/sample - loss: 0.0755 - val_loss: 0.0893\n",
            "Epoch 183/600\n",
            "426/426 [==============================] - 0s 91us/sample - loss: 0.0575 - val_loss: 0.0794\n",
            "Epoch 184/600\n",
            "426/426 [==============================] - 0s 94us/sample - loss: 0.0916 - val_loss: 0.0854\n",
            "Epoch 185/600\n",
            "426/426 [==============================] - 0s 86us/sample - loss: 0.0791 - val_loss: 0.0912\n",
            "Epoch 186/600\n",
            "426/426 [==============================] - 0s 98us/sample - loss: 0.0753 - val_loss: 0.0770\n",
            "Epoch 187/600\n",
            "426/426 [==============================] - 0s 95us/sample - loss: 0.0824 - val_loss: 0.0819\n",
            "Epoch 188/600\n",
            "426/426 [==============================] - 0s 91us/sample - loss: 0.0657 - val_loss: 0.0798\n",
            "Epoch 189/600\n",
            "426/426 [==============================] - 0s 92us/sample - loss: 0.0674 - val_loss: 0.0906\n",
            "Epoch 190/600\n",
            "426/426 [==============================] - 0s 89us/sample - loss: 0.0797 - val_loss: 0.0819\n",
            "Epoch 191/600\n",
            "426/426 [==============================] - 0s 90us/sample - loss: 0.0856 - val_loss: 0.0899\n",
            "Epoch 192/600\n",
            "426/426 [==============================] - 0s 86us/sample - loss: 0.0701 - val_loss: 0.0893\n",
            "Epoch 193/600\n",
            "426/426 [==============================] - 0s 113us/sample - loss: 0.0697 - val_loss: 0.0780\n",
            "Epoch 194/600\n",
            "426/426 [==============================] - 0s 99us/sample - loss: 0.0792 - val_loss: 0.0961\n",
            "Epoch 195/600\n",
            "426/426 [==============================] - 0s 92us/sample - loss: 0.0676 - val_loss: 0.0868\n",
            "Epoch 196/600\n",
            "426/426 [==============================] - 0s 89us/sample - loss: 0.0661 - val_loss: 0.0847\n",
            "Epoch 197/600\n",
            "426/426 [==============================] - 0s 88us/sample - loss: 0.0688 - val_loss: 0.0925\n",
            "Epoch 198/600\n",
            "426/426 [==============================] - 0s 94us/sample - loss: 0.0560 - val_loss: 0.1043\n",
            "Epoch 199/600\n",
            "426/426 [==============================] - 0s 94us/sample - loss: 0.0682 - val_loss: 0.0850\n",
            "Epoch 200/600\n",
            "426/426 [==============================] - 0s 103us/sample - loss: 0.0707 - val_loss: 0.0841\n",
            "Epoch 201/600\n",
            "426/426 [==============================] - 0s 97us/sample - loss: 0.0726 - val_loss: 0.0827\n",
            "Epoch 202/600\n",
            "426/426 [==============================] - 0s 95us/sample - loss: 0.0691 - val_loss: 0.0998\n",
            "Epoch 203/600\n",
            "426/426 [==============================] - 0s 94us/sample - loss: 0.0776 - val_loss: 0.0900\n",
            "Epoch 204/600\n",
            "426/426 [==============================] - 0s 98us/sample - loss: 0.0635 - val_loss: 0.0850\n",
            "Epoch 205/600\n",
            "426/426 [==============================] - 0s 96us/sample - loss: 0.0614 - val_loss: 0.0900\n",
            "Epoch 206/600\n",
            "426/426 [==============================] - 0s 92us/sample - loss: 0.0820 - val_loss: 0.0868\n",
            "Epoch 207/600\n",
            "426/426 [==============================] - 0s 95us/sample - loss: 0.0773 - val_loss: 0.0836\n",
            "Epoch 208/600\n",
            "426/426 [==============================] - 0s 90us/sample - loss: 0.0716 - val_loss: 0.0843\n",
            "Epoch 209/600\n",
            "426/426 [==============================] - 0s 92us/sample - loss: 0.0663 - val_loss: 0.0915\n",
            "Epoch 210/600\n",
            "426/426 [==============================] - 0s 90us/sample - loss: 0.0706 - val_loss: 0.0865\n",
            "Epoch 211/600\n",
            "426/426 [==============================] - 0s 93us/sample - loss: 0.0595 - val_loss: 0.0977\n",
            "Epoch 00211: early stopping\n"
          ],
          "name": "stdout"
        },
        {
          "output_type": "execute_result",
          "data": {
            "text/plain": [
              "<tensorflow.python.keras.callbacks.History at 0x7f7a3ebfa160>"
            ]
          },
          "metadata": {
            "tags": []
          },
          "execution_count": 87
        }
      ]
    },
    {
      "cell_type": "markdown",
      "metadata": {
        "id": "qv73FAvxa3y0",
        "colab_type": "text"
      },
      "source": [
        "# Running Tensorboard\n"
      ]
    },
    {
      "cell_type": "markdown",
      "metadata": {
        "id": "XpuM3ftxa3y1",
        "colab_type": "text"
      },
      "source": [
        "## Running through the Command Line\n",
        "\n",
        "**Watch video to see how to run Tensorboard through a command line call.**"
      ]
    },
    {
      "cell_type": "markdown",
      "metadata": {
        "id": "8OjAO6lMa3y2",
        "colab_type": "text"
      },
      "source": [
        "Tensorboard will run locally in your browser at [http://localhost:6006/](http://localhost:6006/)\n"
      ]
    },
    {
      "cell_type": "code",
      "metadata": {
        "id": "eX1-fYi1a3y3",
        "colab_type": "code",
        "colab": {
          "base_uri": "https://localhost:8080/",
          "height": 34
        },
        "outputId": "7c0f5d28-7676-493a-931e-4f03f8a50aeb"
      },
      "source": [
        "print(log_directory)"
      ],
      "execution_count": 88,
      "outputs": [
        {
          "output_type": "stream",
          "text": [
            "/content/logs/\\2020-03-26--0654\n"
          ],
          "name": "stdout"
        }
      ]
    },
    {
      "cell_type": "code",
      "metadata": {
        "id": "hdBdraKJa3y_",
        "colab_type": "code",
        "colab": {
          "base_uri": "https://localhost:8080/",
          "height": 34
        },
        "outputId": "5a677a33-4d43-481a-af72-0e48dec283e1"
      },
      "source": [
        "pwd"
      ],
      "execution_count": 89,
      "outputs": [
        {
          "output_type": "execute_result",
          "data": {
            "text/plain": [
              "'/content'"
            ]
          },
          "metadata": {
            "tags": []
          },
          "execution_count": 89
        }
      ]
    },
    {
      "cell_type": "markdown",
      "metadata": {
        "id": "Erstggk3a3zF",
        "colab_type": "text"
      },
      "source": [
        "### Use cd at your command line to change directory to the file path reported back by pwd or your current .py file location.\n",
        "### Then run this code at your command line or terminal"
      ]
    },
    {
      "cell_type": "code",
      "metadata": {
        "id": "qPWOLOSma3zH",
        "colab_type": "code",
        "colab": {
          "base_uri": "https://localhost:8080/",
          "height": 63
        },
        "outputId": "3f5f14f8-749c-4f87-e94b-ce635eeaf386"
      },
      "source": [
        "!tensorboard --logdir logs\\fit "
      ],
      "execution_count": 0,
      "outputs": [
        {
          "output_type": "stream",
          "text": [
            "TensorBoard 1.15.0 at http://7790cf9097c1:6006/ (Press CTRL+C to quit)\n"
          ],
          "name": "stdout"
        }
      ]
    },
    {
      "cell_type": "code",
      "metadata": {
        "id": "lURg5z2vf8V9",
        "colab_type": "code",
        "colab": {}
      },
      "source": [
        ""
      ],
      "execution_count": 0,
      "outputs": []
    }
  ]
}